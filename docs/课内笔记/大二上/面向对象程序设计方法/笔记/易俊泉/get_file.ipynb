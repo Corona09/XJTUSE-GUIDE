{
 "cells": [
  {
   "cell_type": "code",
   "execution_count": 15,
   "metadata": {},
   "outputs": [
    {
     "name": "stdout",
     "output_type": "stream",
     "text": [
      "      - [6.1+6.2异常的概念与分类](docs/课内笔记/大二上/面向对象程序设计方法/笔记/易俊泉/chapter06/6.1+6.2异常的概念与分类.md)\n",
      "\n",
      "      - [6.3异常的处理机制](docs/课内笔记/大二上/面向对象程序设计方法/笔记/易俊泉/chapter06/6.3异常的处理机制.md)\n",
      "\n",
      "      - [6.4自定义异常类](docs/课内笔记/大二上/面向对象程序设计方法/笔记/易俊泉/chapter06/6.4自定义异常类.md)\n",
      "\n"
     ]
    }
   ],
   "source": [
    "import os\n",
    "\n",
    "chapter = \"chapter06\"\n",
    "# 指定目录路径\n",
    "path = \"./chapter06\"\n",
    "\n",
    "# 获取目录下所有文件的名称\n",
    "file_names = [f for f in os.listdir(path) if os.path.isfile(os.path.join(path, f))]\n",
    "\n",
    "# 打印输出所有文件的名称\n",
    "for name in file_names:\n",
    "    name = name[:name.index(\".md\")]\n",
    "    s = \"      - [%s](docs/课内笔记/大二上/面向对象程序设计方法/笔记/易俊泉/%s/%s.md)\"%(name,chapter,name )\n",
    "    print(s)\n",
    "    print()"
   ]
  }
 ],
 "metadata": {
  "kernelspec": {
   "display_name": "ts385",
   "language": "python",
   "name": "python3"
  },
  "language_info": {
   "codemirror_mode": {
    "name": "ipython",
    "version": 3
   },
   "file_extension": ".py",
   "mimetype": "text/x-python",
   "name": "python",
   "nbconvert_exporter": "python",
   "pygments_lexer": "ipython3",
   "version": "3.8.16"
  },
  "orig_nbformat": 4
 },
 "nbformat": 4,
 "nbformat_minor": 2
}
